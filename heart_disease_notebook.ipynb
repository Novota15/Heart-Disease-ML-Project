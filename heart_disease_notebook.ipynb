{
 "cells": [
  {
   "cell_type": "markdown",
   "metadata": {},
   "source": [
    "# Heart Disease ML Project"
   ]
  },
  {
   "cell_type": "markdown",
   "metadata": {},
   "source": [
    "## Project Overview\n",
    "\n",
    "Predicting Heart Disease Using Machine Learning\n",
    "\n",
    "### Author\n",
    "\n",
    "Grant Novota\n",
    "\n",
    "### Problem Description\n",
    "\n",
    "Heart disease remains one of the leading causes of death globally. Early detection is crucial for effective treatment and management. This project aims to use machine learning to predict the presence of heart disease in patients based on a range of medical attributes. By applying various classification algorithms, we seek to develop a model that can accurately identify individuals at risk, thereby aiding in early diagnosis and potentially saving lives.\n",
    "\n",
    "### Goal\n",
    "\n",
    "The primary goal of this project is to develop a predictive model with a high degree of accuracy in detecting the presence of heart disease. This involves:\n",
    "\n",
    "* Understanding the relationship between various medical attributes and the presence of heart disease.\n",
    "* Comparing the performance of multiple machine learning algorithms to find the most suitable one for our task.\n",
    "* Evaluating the model using appropriate metrics to ensure its reliability and effectiveness in a real-world setting."
   ]
  },
  {
   "cell_type": "code",
   "execution_count": 1,
   "metadata": {},
   "outputs": [],
   "source": [
    "# Importing necessary libraries\n",
    "import pandas as pd\n",
    "import numpy as np\n",
    "import matplotlib.pyplot as plt\n",
    "import seaborn as sns"
   ]
  },
  {
   "cell_type": "markdown",
   "metadata": {},
   "source": [
    "Let's start by importing the data, which can be done importing a python library, and exploring the basic structure of the features. Then check for any missing values explicitly."
   ]
  },
  {
   "cell_type": "code",
   "execution_count": 2,
   "metadata": {},
   "outputs": [
    {
     "name": "stdout",
     "output_type": "stream",
     "text": [
      "First 5 rows of the features dataset:\n",
      "   age  sex  cp  trestbps  chol  fbs  restecg  thalach  exang  oldpeak  slope  \\\n",
      "0   63    1   1       145   233    1        2      150      0      2.3      3   \n",
      "1   67    1   4       160   286    0        2      108      1      1.5      2   \n",
      "2   67    1   4       120   229    0        2      129      1      2.6      2   \n",
      "3   37    1   3       130   250    0        0      187      0      3.5      3   \n",
      "4   41    0   2       130   204    0        2      172      0      1.4      1   \n",
      "\n",
      "    ca  thal  \n",
      "0  0.0   6.0  \n",
      "1  3.0   3.0  \n",
      "2  2.0   7.0  \n",
      "3  0.0   3.0  \n",
      "4  0.0   3.0  \n",
      "\n",
      "First 5 rows of the target dataset:\n",
      "   num\n",
      "0    0\n",
      "1    2\n",
      "2    1\n",
      "3    0\n",
      "4    0\n",
      "\n",
      "Features Dataset Info:\n",
      "<class 'pandas.core.frame.DataFrame'>\n",
      "RangeIndex: 303 entries, 0 to 302\n",
      "Data columns (total 13 columns):\n",
      " #   Column    Non-Null Count  Dtype  \n",
      "---  ------    --------------  -----  \n",
      " 0   age       303 non-null    int64  \n",
      " 1   sex       303 non-null    int64  \n",
      " 2   cp        303 non-null    int64  \n",
      " 3   trestbps  303 non-null    int64  \n",
      " 4   chol      303 non-null    int64  \n",
      " 5   fbs       303 non-null    int64  \n",
      " 6   restecg   303 non-null    int64  \n",
      " 7   thalach   303 non-null    int64  \n",
      " 8   exang     303 non-null    int64  \n",
      " 9   oldpeak   303 non-null    float64\n",
      " 10  slope     303 non-null    int64  \n",
      " 11  ca        299 non-null    float64\n",
      " 12  thal      301 non-null    float64\n",
      "dtypes: float64(3), int64(10)\n",
      "memory usage: 30.9 KB\n",
      "\n",
      "Statistical Summary of Features:\n",
      "              age         sex          cp    trestbps        chol         fbs  \\\n",
      "count  303.000000  303.000000  303.000000  303.000000  303.000000  303.000000   \n",
      "mean    54.438944    0.679868    3.158416  131.689769  246.693069    0.148515   \n",
      "std      9.038662    0.467299    0.960126   17.599748   51.776918    0.356198   \n",
      "min     29.000000    0.000000    1.000000   94.000000  126.000000    0.000000   \n",
      "25%     48.000000    0.000000    3.000000  120.000000  211.000000    0.000000   \n",
      "50%     56.000000    1.000000    3.000000  130.000000  241.000000    0.000000   \n",
      "75%     61.000000    1.000000    4.000000  140.000000  275.000000    0.000000   \n",
      "max     77.000000    1.000000    4.000000  200.000000  564.000000    1.000000   \n",
      "\n",
      "          restecg     thalach       exang     oldpeak       slope          ca  \\\n",
      "count  303.000000  303.000000  303.000000  303.000000  303.000000  299.000000   \n",
      "mean     0.990099  149.607261    0.326733    1.039604    1.600660    0.672241   \n",
      "std      0.994971   22.875003    0.469794    1.161075    0.616226    0.937438   \n",
      "min      0.000000   71.000000    0.000000    0.000000    1.000000    0.000000   \n",
      "25%      0.000000  133.500000    0.000000    0.000000    1.000000    0.000000   \n",
      "50%      1.000000  153.000000    0.000000    0.800000    2.000000    0.000000   \n",
      "75%      2.000000  166.000000    1.000000    1.600000    2.000000    1.000000   \n",
      "max      2.000000  202.000000    1.000000    6.200000    3.000000    3.000000   \n",
      "\n",
      "             thal  \n",
      "count  301.000000  \n",
      "mean     4.734219  \n",
      "std      1.939706  \n",
      "min      3.000000  \n",
      "25%      3.000000  \n",
      "50%      3.000000  \n",
      "75%      7.000000  \n",
      "max      7.000000  \n",
      "\n",
      "Missing values in each feature column:\n",
      "age         0\n",
      "sex         0\n",
      "cp          0\n",
      "trestbps    0\n",
      "chol        0\n",
      "fbs         0\n",
      "restecg     0\n",
      "thalach     0\n",
      "exang       0\n",
      "oldpeak     0\n",
      "slope       0\n",
      "ca          4\n",
      "thal        2\n",
      "dtype: int64\n",
      "\n",
      "Missing values in the target column:\n",
      "num    0\n",
      "dtype: int64\n"
     ]
    },
    {
     "data": {
      "image/png": "[encoded data removed]",
      "text/plain": [
       "<Figure size 800x600 with 1 Axes>"
      ]
     },
     "metadata": {},
     "output_type": "display_data"
    }
   ],
   "source": [
    "# Import dataset\n",
    "from ucimlrepo import fetch_ucirepo \n",
    "  \n",
    "# fetch dataset \n",
    "heart_disease = fetch_ucirepo(id=45) \n",
    "  \n",
    "# data (as pandas dataframes) \n",
    "X = heart_disease.data.features \n",
    "y = heart_disease.data.targets \n",
    "  \n",
    "# metadata \n",
    "# print(heart_disease.metadata) \n",
    "  \n",
    "# variable information \n",
    "# print(heart_disease.variables)\n",
    "\n",
    "# Ensure that matplotlib plots are displayed inline in the Jupyter Notebook\n",
    "%matplotlib inline\n",
    "\n",
    "# Setting the visualisation styles for seaborn\n",
    "sns.set_style(\"whitegrid\")\n",
    "\n",
    "# Display the first few rows of the feature dataframe to understand its structure\n",
    "print(\"First 5 rows of the features dataset:\")\n",
    "print(X.head())\n",
    "\n",
    "# Display the first few rows of the target dataframe\n",
    "print(\"\\nFirst 5 rows of the target dataset:\")\n",
    "print(y.head())\n",
    "\n",
    "# Display basic information about the features dataset\n",
    "print(\"\\nFeatures Dataset Info:\")\n",
    "X.info()\n",
    "\n",
    "# Basic statistical description of the numerical features in the dataset\n",
    "print(\"\\nStatistical Summary of Features:\")\n",
    "print(X.describe())\n",
    "\n",
    "# Checking for missing values in the features dataset\n",
    "print(\"\\nMissing values in each feature column:\")\n",
    "print(X.isnull().sum())\n",
    "\n",
    "# Checking for missing values in the target dataset\n",
    "print(\"\\nMissing values in the target column:\")\n",
    "print(y.isnull().sum())\n",
    "\n",
    "# Visualizing the distribution of the target variable\n",
    "plt.figure(figsize=(8, 6))\n",
    "sns.countplot(x=y['num'])\n",
    "plt.title('Distribution of Heart Disease Diagnosis')\n",
    "plt.xlabel('Diagnosis of Heart Disease')\n",
    "plt.ylabel('Count')\n",
    "plt.show()"
   ]
  },
  {
   "cell_type": "markdown",
   "metadata": {},
   "source": [
    "Given the exploration results, we observe that the dataset consists of 303 instances with 13 features each. All features are numerical, with both integer and float types present. The target variable, num, indicates the presence of heart disease and shows no missing values. However, we have identified missing values in the ca and thal features, which we will need to address as part of our data cleaning process.\n",
    "\n",
    "## Data Cleaning\n",
    "\n",
    "The data cleaning process will involve handling missing values for the ca and thal features. Given the small number of missing values (4 in ca and 2 in thal), one straightforward approach is to impute these missing values. For this project, we'll use the median values of these columns for imputation, as this method is robust to outliers and does not assume a normal distribution of data.\n",
    "\n",
    "After handling missing values, we will also check for any outliers or anomalies in the dataset that may affect our model's performance."
   ]
  },
  {
   "cell_type": "code",
   "execution_count": 3,
   "metadata": {},
   "outputs": [
    {
     "name": "stdout",
     "output_type": "stream",
     "text": [
      "\n",
      "Missing values after imputation:\n",
      "age         0\n",
      "sex         0\n",
      "cp          0\n",
      "trestbps    0\n",
      "chol        0\n",
      "fbs         0\n",
      "restecg     0\n",
      "thalach     0\n",
      "exang       0\n",
      "oldpeak     0\n",
      "slope       0\n",
      "ca          0\n",
      "thal        0\n",
      "dtype: int64\n"
     ]
    },
    {
     "name": "stderr",
     "output_type": "stream",
     "text": [
      "C:\\Users\\gtnov\\AppData\\Local\\Temp\\ipykernel_24596\\4060859806.py:2: FutureWarning: A value is trying to be set on a copy of a DataFrame or Series through chained assignment using an inplace method.\n",
      "The behavior will change in pandas 3.0. This inplace method will never work because the intermediate object on which we are setting values always behaves as a copy.\n",
      "\n",
      "For example, when doing 'df[col].method(value, inplace=True)', try using 'df.method({col: value}, inplace=True)' or df[col] = df[col].method(value) instead, to perform the operation inplace on the original object.\n",
      "\n",
      "\n",
      "  X['ca'].fillna(X['ca'].median(), inplace=True)\n",
      "C:\\Users\\gtnov\\AppData\\Local\\Temp\\ipykernel_24596\\4060859806.py:2: SettingWithCopyWarning: \n",
      "A value is trying to be set on a copy of a slice from a DataFrame\n",
      "\n",
      "See the caveats in the documentation: https://pandas.pydata.org/pandas-docs/stable/user_guide/indexing.html#returning-a-view-versus-a-copy\n",
      "  X['ca'].fillna(X['ca'].median(), inplace=True)\n",
      "C:\\Users\\gtnov\\AppData\\Local\\Temp\\ipykernel_24596\\4060859806.py:3: FutureWarning: A value is trying to be set on a copy of a DataFrame or Series through chained assignment using an inplace method.\n",
      "The behavior will change in pandas 3.0. This inplace method will never work because the intermediate object on which we are setting values always behaves as a copy.\n",
      "\n",
      "For example, when doing 'df[col].method(value, inplace=True)', try using 'df.method({col: value}, inplace=True)' or df[col] = df[col].method(value) instead, to perform the operation inplace on the original object.\n",
      "\n",
      "\n",
      "  X['thal'].fillna(X['thal'].median(), inplace=True)\n",
      "C:\\Users\\gtnov\\AppData\\Local\\Temp\\ipykernel_24596\\4060859806.py:3: SettingWithCopyWarning: \n",
      "A value is trying to be set on a copy of a slice from a DataFrame\n",
      "\n",
      "See the caveats in the documentation: https://pandas.pydata.org/pandas-docs/stable/user_guide/indexing.html#returning-a-view-versus-a-copy\n",
      "  X['thal'].fillna(X['thal'].median(), inplace=True)\n"
     ]
    }
   ],
   "source": [
    "# Impute missing values using the median\n",
    "X['ca'].fillna(X['ca'].median(), inplace=True)\n",
    "X['thal'].fillna(X['thal'].median(), inplace=True)\n",
    "\n",
    "# Check again for missing values to confirm\n",
    "print(\"\\nMissing values after imputation:\")\n",
    "print(X.isnull().sum())"
   ]
  },
  {
   "cell_type": "markdown",
   "metadata": {},
   "source": [
    "### Data Preparation for Modeling\n",
    "\n",
    "Before moving to model building, it's crucial to split the data into training and testing sets. This ensures that we have a way to validate the performance of our model on unseen data. Additionally, depending on the model chosen, we may need to scale the features since models like SVM and KNN are sensitive to the scale of the data."
   ]
  },
  {
   "cell_type": "code",
   "execution_count": 4,
   "metadata": {},
   "outputs": [
    {
     "name": "stdout",
     "output_type": "stream",
     "text": [
      "Data preparation for modeling completed.\n"
     ]
    }
   ],
   "source": [
    "from sklearn.model_selection import train_test_split\n",
    "from sklearn.preprocessing import StandardScaler\n",
    "\n",
    "# Splitting the dataset into training and testing sets\n",
    "X_train, X_test, y_train, y_test = train_test_split(X, y, test_size=0.2, random_state=42)\n",
    "\n",
    "# Feature scaling\n",
    "scaler = StandardScaler()\n",
    "X_train_scaled = scaler.fit_transform(X_train)\n",
    "X_test_scaled = scaler.transform(X_test)\n",
    "\n",
    "print(\"Data preparation for modeling completed.\")"
   ]
  },
  {
   "cell_type": "markdown",
   "metadata": {},
   "source": [
    "With the data now prepared for modeling: missing values addressed and the data split into training and testing sets, with scaling applied. It is time to proceed to the model building phase:\n",
    "\n",
    "1. Selecting Models: choose a few ML models that are well-suited for binary classification problems. Given the nature of the dataset, logistic regression, decision trees, random forests, and support vector machines are good starting points.\n",
    "2. Training Models: Fit the selected models to the training data.\n",
    "3. Evaluating Models: Use the test set to evaluate each model's performance, focusing on metrics relevant to binary classification tasks.\n",
    "4. Selecting the Best Model: Compare the models based on the evaluation metrics and select the best-performing model.\n",
    "5. Fine Tuning: fine tune the hyperparameters of the chosen model to further improve performance.\n",
    "\n",
    "### Model Building and Evaluation\n",
    "\n",
    "We'll start by training and evaluating three models: Logistic Regression, Random Forest, and Support Vector Machine."
   ]
  },
  {
   "cell_type": "code",
   "execution_count": 5,
   "metadata": {},
   "outputs": [
    {
     "name": "stdout",
     "output_type": "stream",
     "text": [
      "Logistic Regression Performance:\n",
      "Accuracy: 0.5410\n",
      "ROC-AUC: 0.8702\n",
      "              precision    recall  f1-score   support\n",
      "\n",
      "           0       0.81      0.90      0.85        29\n",
      "           1       0.88      0.22      0.35        32\n",
      "           2       0.00      0.00      0.00         0\n",
      "           3       0.00      0.00      0.00         0\n",
      "\n",
      "    accuracy                           0.54        61\n",
      "   macro avg       0.42      0.28      0.30        61\n",
      "weighted avg       0.85      0.54      0.59        61\n",
      "\n",
      "\n",
      "\n",
      "Random Forest Performance:\n",
      "Accuracy: 0.6230\n",
      "ROC-AUC: 0.8087\n",
      "              precision    recall  f1-score   support\n",
      "\n",
      "           0       0.72      0.97      0.82        29\n",
      "           1       1.00      0.31      0.48        32\n",
      "           2       0.00      0.00      0.00         0\n",
      "           3       0.00      0.00      0.00         0\n",
      "\n",
      "    accuracy                           0.62        61\n",
      "   macro avg       0.43      0.32      0.32        61\n",
      "weighted avg       0.87      0.62      0.64        61\n",
      "\n",
      "\n",
      "\n",
      "SVM Performance:\n",
      "Accuracy: 0.5738\n",
      "ROC-AUC: 0.7791\n",
      "              precision    recall  f1-score   support\n",
      "\n",
      "           0       0.68      0.97      0.80        29\n",
      "           1       1.00      0.22      0.36        32\n",
      "           2       0.00      0.00      0.00         0\n",
      "           3       0.00      0.00      0.00         0\n",
      "\n",
      "    accuracy                           0.57        61\n",
      "   macro avg       0.42      0.30      0.29        61\n",
      "weighted avg       0.85      0.57      0.57        61\n",
      "\n",
      "\n",
      "\n"
     ]
    },
    {
     "name": "stderr",
     "output_type": "stream",
     "text": [
      "C:\\Users\\gtnov\\AppData\\Local\\Packages\\PythonSoftwareFoundation.Python.3.11_qbz5n2kfra8p0\\LocalCache\\local-packages\\Python311\\site-packages\\sklearn\\metrics\\_classification.py:1509: UndefinedMetricWarning: Recall is ill-defined and being set to 0.0 in labels with no true samples. Use `zero_division` parameter to control this behavior.\n",
      "  _warn_prf(average, modifier, f\"{metric.capitalize()} is\", len(result))\n",
      "C:\\Users\\gtnov\\AppData\\Local\\Packages\\PythonSoftwareFoundation.Python.3.11_qbz5n2kfra8p0\\LocalCache\\local-packages\\Python311\\site-packages\\sklearn\\metrics\\_classification.py:1509: UndefinedMetricWarning: Recall is ill-defined and being set to 0.0 in labels with no true samples. Use `zero_division` parameter to control this behavior.\n",
      "  _warn_prf(average, modifier, f\"{metric.capitalize()} is\", len(result))\n",
      "C:\\Users\\gtnov\\AppData\\Local\\Packages\\PythonSoftwareFoundation.Python.3.11_qbz5n2kfra8p0\\LocalCache\\local-packages\\Python311\\site-packages\\sklearn\\metrics\\_classification.py:1509: UndefinedMetricWarning: Recall is ill-defined and being set to 0.0 in labels with no true samples. Use `zero_division` parameter to control this behavior.\n",
      "  _warn_prf(average, modifier, f\"{metric.capitalize()} is\", len(result))\n",
      "C:\\Users\\gtnov\\AppData\\Local\\Packages\\PythonSoftwareFoundation.Python.3.11_qbz5n2kfra8p0\\LocalCache\\local-packages\\Python311\\site-packages\\sklearn\\metrics\\_classification.py:1509: UndefinedMetricWarning: Recall is ill-defined and being set to 0.0 in labels with no true samples. Use `zero_division` parameter to control this behavior.\n",
      "  _warn_prf(average, modifier, f\"{metric.capitalize()} is\", len(result))\n",
      "C:\\Users\\gtnov\\AppData\\Local\\Packages\\PythonSoftwareFoundation.Python.3.11_qbz5n2kfra8p0\\LocalCache\\local-packages\\Python311\\site-packages\\sklearn\\metrics\\_classification.py:1509: UndefinedMetricWarning: Recall is ill-defined and being set to 0.0 in labels with no true samples. Use `zero_division` parameter to control this behavior.\n",
      "  _warn_prf(average, modifier, f\"{metric.capitalize()} is\", len(result))\n",
      "C:\\Users\\gtnov\\AppData\\Local\\Packages\\PythonSoftwareFoundation.Python.3.11_qbz5n2kfra8p0\\LocalCache\\local-packages\\Python311\\site-packages\\sklearn\\metrics\\_classification.py:1509: UndefinedMetricWarning: Recall is ill-defined and being set to 0.0 in labels with no true samples. Use `zero_division` parameter to control this behavior.\n",
      "  _warn_prf(average, modifier, f\"{metric.capitalize()} is\", len(result))\n",
      "C:\\Users\\gtnov\\AppData\\Local\\Packages\\PythonSoftwareFoundation.Python.3.11_qbz5n2kfra8p0\\LocalCache\\local-packages\\Python311\\site-packages\\sklearn\\metrics\\_classification.py:1509: UndefinedMetricWarning: Recall is ill-defined and being set to 0.0 in labels with no true samples. Use `zero_division` parameter to control this behavior.\n",
      "  _warn_prf(average, modifier, f\"{metric.capitalize()} is\", len(result))\n",
      "C:\\Users\\gtnov\\AppData\\Local\\Packages\\PythonSoftwareFoundation.Python.3.11_qbz5n2kfra8p0\\LocalCache\\local-packages\\Python311\\site-packages\\sklearn\\metrics\\_classification.py:1509: UndefinedMetricWarning: Recall is ill-defined and being set to 0.0 in labels with no true samples. Use `zero_division` parameter to control this behavior.\n",
      "  _warn_prf(average, modifier, f\"{metric.capitalize()} is\", len(result))\n",
      "C:\\Users\\gtnov\\AppData\\Local\\Packages\\PythonSoftwareFoundation.Python.3.11_qbz5n2kfra8p0\\LocalCache\\local-packages\\Python311\\site-packages\\sklearn\\metrics\\_classification.py:1509: UndefinedMetricWarning: Recall is ill-defined and being set to 0.0 in labels with no true samples. Use `zero_division` parameter to control this behavior.\n",
      "  _warn_prf(average, modifier, f\"{metric.capitalize()} is\", len(result))\n"
     ]
    }
   ],
   "source": [
    "from sklearn.linear_model import LogisticRegression\n",
    "from sklearn.ensemble import RandomForestClassifier\n",
    "from sklearn.svm import SVC\n",
    "from sklearn.metrics import accuracy_score, classification_report, roc_auc_score\n",
    "\n",
    "# Initialize the models\n",
    "logreg = LogisticRegression(random_state=42)\n",
    "rf = RandomForestClassifier(random_state=42)\n",
    "svc = SVC(probability=True, random_state=42)\n",
    "\n",
    "# Train the models\n",
    "logreg.fit(X_train_scaled, y_train['num'])\n",
    "rf.fit(X_train_scaled, y_train['num'])\n",
    "svc.fit(X_train_scaled, y_train['num'])\n",
    "\n",
    "# Predictions\n",
    "logreg_preds = logreg.predict(X_test_scaled)\n",
    "rf_preds = rf.predict(X_test_scaled)\n",
    "svc_preds = svc.predict(X_test_scaled)\n",
    "\n",
    "# Convert the target variable to binary format (0: no heart disease, 1: heart disease present)\n",
    "y_train_binary = y_train['num'].apply(lambda x: 0 if x == 0 else 1)\n",
    "y_test_binary = y_test['num'].apply(lambda x: 0 if x == 0 else 1)\n",
    "\n",
    "# Evaluate the models\n",
    "def evaluate_model(y_true, predictions, model_name):\n",
    "    accuracy = accuracy_score(y_true, predictions)\n",
    "    roc_auc = roc_auc_score(y_true, predictions)  # Adjusted for binary classification\n",
    "    print(f\"{model_name} Performance:\")\n",
    "    print(f\"Accuracy: {accuracy:.4f}\")\n",
    "    print(f\"ROC-AUC: {roc_auc:.4f}\")\n",
    "    print(classification_report(y_true, predictions))\n",
    "    print(\"\\n\")\n",
    "\n",
    "# Re-evaluating the models with the binary target\n",
    "evaluate_model(y_test_binary, logreg_preds, \"Logistic Regression\")\n",
    "evaluate_model(y_test_binary, rf_preds, \"Random Forest\")\n",
    "evaluate_model(y_test_binary, svc_preds, \"SVM\")\n",
    "\n"
   ]
  },
  {
   "cell_type": "markdown",
   "metadata": {},
   "source": [
    "The results suggest there are a couple points to address:\n",
    "\n",
    "1. Model Performance: The performance of the models varies, with the Random Forest classifier showing a relatively better accuracy compared to Logistic Regression and SVM. However, the ROC-AUC scores indicate the models have potential in distinguishing between the classes, but the precision, recall, and f1-score values for classes other than 0 and 1 (which appear due to how the models' predictions are interpreted) indicate some confusion or misclassification.\n",
    "2. UndefinedMetricWarning: This warning occurs because there are labels in your true labels array that do not appear in the predicted labels array, leading to divisions by zero in recall, f1, and precision calculations. This is likely due to the conversion of the num column into a binary format, but the models may still predict values beyond 0 and 1, or the test data may not cover all possible outcomes evenly.\n",
    "\n",
    "Given the initial performance, let's focus on models that show promising results, like the Random Forest classifier, and perform hyperparameter tuning to optimize their performance. Tools like GridSearchCV or RandomizedSearchCV can automate this process."
   ]
  },
  {
   "cell_type": "code",
   "execution_count": 6,
   "metadata": {},
   "outputs": [
    {
     "name": "stdout",
     "output_type": "stream",
     "text": [
      "Best Parameters: {'max_depth': None, 'min_samples_split': 5, 'n_estimators': 300}\n",
      "Best Score: 0.8182\n",
      "Optimized Random Forest Performance:\n",
      "Accuracy: 0.9016\n",
      "ROC-AUC: 0.9030\n",
      "              precision    recall  f1-score   support\n",
      "\n",
      "           0       0.87      0.93      0.90        29\n",
      "           1       0.93      0.88      0.90        32\n",
      "\n",
      "    accuracy                           0.90        61\n",
      "   macro avg       0.90      0.90      0.90        61\n",
      "weighted avg       0.90      0.90      0.90        61\n",
      "\n",
      "\n",
      "\n"
     ]
    }
   ],
   "source": [
    "from sklearn.model_selection import GridSearchCV\n",
    "\n",
    "# Define the parameter grid for Random Forest\n",
    "param_grid = {\n",
    "    'n_estimators': [100, 200, 300],\n",
    "    'max_depth': [None, 10, 20, 30],\n",
    "    'min_samples_split': [2, 5, 10]\n",
    "}\n",
    "\n",
    "# Initialize the GridSearchCV object\n",
    "grid_search = GridSearchCV(estimator=RandomForestClassifier(random_state=42), param_grid=param_grid, cv=5, scoring='accuracy', n_jobs=-1)\n",
    "\n",
    "# Fit grid_search to the data\n",
    "grid_search.fit(X_train_scaled, y_train_binary)\n",
    "\n",
    "# Print the best parameters and the best score\n",
    "print(f\"Best Parameters: {grid_search.best_params_}\")\n",
    "print(f\"Best Score: {grid_search.best_score_:.4f}\")\n",
    "\n",
    "# Evaluate the best model found on the test set\n",
    "best_rf = grid_search.best_estimator_\n",
    "best_rf_preds = best_rf.predict(X_test_scaled)\n",
    "evaluate_model(y_test_binary, best_rf_preds, \"Optimized Random Forest\")"
   ]
  },
  {
   "cell_type": "markdown",
   "metadata": {},
   "source": [
    "The results after optimizing the Random Forest classifier with hyperparameter tuning are impressive:\n",
    "\n",
    "* Accuracy improved to 90.16% from the initial Random Forest model accuracy of 62.3%.\n",
    "* ROC-AUC score is 0.9030, indicating a strong ability to distinguish between the presence and absence of heart disease.\n",
    "* Precision, recall, and f1-score are balanced and high for both classes (presence and absence of heart disease), demonstrating the model's effectiveness in correctly identifying patients with and without heart disease.\n",
    "This performance improvement highlights the importance and impact of hyperparameter tuning in machine learning projects. By optimizing parameters like max_depth, min_samples_split, and n_estimators, we've significantly enhanced the model's predictive accuracy and generalization capability."
   ]
  },
  {
   "cell_type": "markdown",
   "metadata": {},
   "source": [
    "## Model Performance Summary\n",
    "\n",
    "Tabular summary of the model performances before and after optimization:\n",
    "\n",
    "| Model                    | Accuracy | ROC-AUC | Precision (Class 1) | Recall (Class 1) | F1-Score (Class 1) |\n",
    "|--------------------------|----------|---------|---------------------|------------------|--------------------|\n",
    "| Logistic Regression      | 54.10%   | 0.8702  | 88%                 | 22%              | 35%                |\n",
    "| Random Forest (Initial)  | 62.30%   | 0.8087  | 100%                | 31%              | 48%                |\n",
    "| SVM                      | 57.38%   | 0.7791  | 100%                | 22%              | 36%                |\n",
    "| Optimized Random Forest  | 90.16%   | 0.9030  | 93%                 | 88%              | 90%                |\n"
   ]
  },
  {
   "cell_type": "markdown",
   "metadata": {},
   "source": [
    "### Visual Comparison\n",
    "\n",
    "Let's plot the accuracy and ROC-AUC scores for each model."
   ]
  },
  {
   "cell_type": "code",
   "execution_count": 7,
   "metadata": {},
   "outputs": [
    {
     "data": {
      "image/png": "[encoded data removed]",
      "text/plain": [
       "<Figure size 1000x500 with 1 Axes>"
      ]
     },
     "metadata": {},
     "output_type": "display_data"
    }
   ],
   "source": [
    "import matplotlib.pyplot as plt\n",
    "\n",
    "models = ['Logistic Regression', 'Random Forest', 'SVM', 'Optimized Random Forest']\n",
    "accuracies = [54.10, 62.30, 57.38, 90.16]\n",
    "roc_aucs = [0.8702, 0.8087, 0.7791, 0.9030]\n",
    "\n",
    "x = range(len(models))\n",
    "\n",
    "plt.figure(figsize=(10, 5))\n",
    "plt.bar(x, accuracies, width=0.4, label='Accuracy', color='b', align='center')\n",
    "plt.bar(x, np.array(roc_aucs)*100, width=0.4, label='ROC-AUC', color='g', align='edge')\n",
    "plt.xlabel('Models')\n",
    "plt.ylabel('Scores')\n",
    "plt.title('Model Performance Comparison')\n",
    "plt.xticks(x, models, rotation=45)\n",
    "plt.legend()\n",
    "plt.show()\n"
   ]
  },
  {
   "cell_type": "markdown",
   "metadata": {},
   "source": [
    "## Insights and Discussion\n",
    "\n",
    "* The initial analysis with Logistic Regression, Random Forest, and SVM highlighted the challenge of achieving high accuracy in predicting heart disease presence. Each model demonstrated varying strengths, with Random Forest initially showing promise in accuracy and ROC-AUC scores.\n",
    "\n",
    "* The optimized Random Forest model significantly outperformed the initial models, achieving an accuracy of over 90% and an excellent ROC-AUC score. This underscores the value of hyperparameter tuning in enhancing model performance.\n",
    "\n",
    "* Random Forest provides insights into feature importance, offering a valuable opportunity to understand which factors are most predictive of heart disease. Future work could delve deeper into these insights, potentially aiding in clinical decision-making.\n",
    "\n",
    "* The high performance of the optimized Random Forest model suggests potential for application in a clinical setting, where early detection of heart disease can substantially impact patient outcomes. However, deployment would require thorough validation and ethical considerations, particularly regarding false positives and negatives.\n",
    "\n",
    "* This project opens avenues for further research, including exploring more advanced algorithms, incorporating larger and more diverse datasets, and developing tools that could integrate these models for use in healthcare settings.\n",
    "\n",
    "In conclusion, this project demonstrates the potential of machine learning models to aid in the early detection of heart disease, highlighting the importance of model selection, optimization, and the need for a careful approach to deployment in clinical settings."
   ]
  },
  {
   "cell_type": "markdown",
   "metadata": {},
   "source": []
  }
 ],
 "metadata": {
  "kernelspec": {
   "display_name": "Python 3",
   "language": "python",
   "name": "python3"
  },
  "language_info": {
   "codemirror_mode": {
    "name": "ipython",
    "version": 3
   },
   "file_extension": ".py",
   "mimetype": "text/x-python",
   "name": "python",
   "nbconvert_exporter": "python",
   "pygments_lexer": "ipython3",
   "version": "3.11.8"
  }
 },
 "nbformat": 4,
 "nbformat_minor": 2
}
